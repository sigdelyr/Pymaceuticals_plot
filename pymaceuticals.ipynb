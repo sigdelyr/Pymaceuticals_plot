{
 "cells": [
  {
   "cell_type": "code",
   "execution_count": 2,
   "metadata": {},
   "outputs": [],
   "source": [
    "# Dependencies and Setup\n",
    "%matplotlib inline\n",
    "import matplotlib.pyplot as plt\n",
    "import pandas as pd\n",
    "import numpy as np\n",
    "import warnings\n",
    "warnings.filterwarnings('ignore')\n",
    "import csv\n",
    "from scipy.stats import sem\n"
   ]
  },
  {
   "cell_type": "code",
   "execution_count": 3,
   "metadata": {},
   "outputs": [],
   "source": [
    "# File to Load (Remember to Change These)\n",
    "mouse_drug_data_to_load = \"data/mouse_drug_data.csv\"\n",
    "clinical_trial_data_to_load = \"data/clinicaltrial_data.csv\""
   ]
  },
  {
   "cell_type": "code",
   "execution_count": 4,
   "metadata": {},
   "outputs": [],
   "source": [
    "drug_data = pd.read_csv(mouse_drug_data_to_load)\n",
    "trial_data = pd.read_csv(clinical_trial_data_to_load)"
   ]
  },
  {
   "cell_type": "code",
   "execution_count": 5,
   "metadata": {},
   "outputs": [
    {
     "data": {
      "text/html": [
       "<div>\n",
       "<style scoped>\n",
       "    .dataframe tbody tr th:only-of-type {\n",
       "        vertical-align: middle;\n",
       "    }\n",
       "\n",
       "    .dataframe tbody tr th {\n",
       "        vertical-align: top;\n",
       "    }\n",
       "\n",
       "    .dataframe thead th {\n",
       "        text-align: right;\n",
       "    }\n",
       "</style>\n",
       "<table border=\"1\" class=\"dataframe\">\n",
       "  <thead>\n",
       "    <tr style=\"text-align: right;\">\n",
       "      <th></th>\n",
       "      <th>Mouse ID</th>\n",
       "      <th>Drug</th>\n",
       "    </tr>\n",
       "  </thead>\n",
       "  <tbody>\n",
       "    <tr>\n",
       "      <th>0</th>\n",
       "      <td>f234</td>\n",
       "      <td>Stelasyn</td>\n",
       "    </tr>\n",
       "    <tr>\n",
       "      <th>1</th>\n",
       "      <td>x402</td>\n",
       "      <td>Stelasyn</td>\n",
       "    </tr>\n",
       "    <tr>\n",
       "      <th>2</th>\n",
       "      <td>a492</td>\n",
       "      <td>Stelasyn</td>\n",
       "    </tr>\n",
       "    <tr>\n",
       "      <th>3</th>\n",
       "      <td>w540</td>\n",
       "      <td>Stelasyn</td>\n",
       "    </tr>\n",
       "    <tr>\n",
       "      <th>4</th>\n",
       "      <td>v764</td>\n",
       "      <td>Stelasyn</td>\n",
       "    </tr>\n",
       "  </tbody>\n",
       "</table>\n",
       "</div>"
      ],
      "text/plain": [
       "  Mouse ID      Drug\n",
       "0     f234  Stelasyn\n",
       "1     x402  Stelasyn\n",
       "2     a492  Stelasyn\n",
       "3     w540  Stelasyn\n",
       "4     v764  Stelasyn"
      ]
     },
     "execution_count": 5,
     "metadata": {},
     "output_type": "execute_result"
    }
   ],
   "source": [
    "drug_data.head()\n"
   ]
  },
  {
   "cell_type": "code",
   "execution_count": 6,
   "metadata": {},
   "outputs": [
    {
     "data": {
      "text/html": [
       "<div>\n",
       "<style scoped>\n",
       "    .dataframe tbody tr th:only-of-type {\n",
       "        vertical-align: middle;\n",
       "    }\n",
       "\n",
       "    .dataframe tbody tr th {\n",
       "        vertical-align: top;\n",
       "    }\n",
       "\n",
       "    .dataframe thead th {\n",
       "        text-align: right;\n",
       "    }\n",
       "</style>\n",
       "<table border=\"1\" class=\"dataframe\">\n",
       "  <thead>\n",
       "    <tr style=\"text-align: right;\">\n",
       "      <th></th>\n",
       "      <th>Mouse ID</th>\n",
       "      <th>Timepoint</th>\n",
       "      <th>Tumor Volume (mm3)</th>\n",
       "      <th>Metastatic Sites</th>\n",
       "    </tr>\n",
       "  </thead>\n",
       "  <tbody>\n",
       "    <tr>\n",
       "      <th>0</th>\n",
       "      <td>b128</td>\n",
       "      <td>0</td>\n",
       "      <td>45.0</td>\n",
       "      <td>0</td>\n",
       "    </tr>\n",
       "    <tr>\n",
       "      <th>1</th>\n",
       "      <td>f932</td>\n",
       "      <td>0</td>\n",
       "      <td>45.0</td>\n",
       "      <td>0</td>\n",
       "    </tr>\n",
       "    <tr>\n",
       "      <th>2</th>\n",
       "      <td>g107</td>\n",
       "      <td>0</td>\n",
       "      <td>45.0</td>\n",
       "      <td>0</td>\n",
       "    </tr>\n",
       "    <tr>\n",
       "      <th>3</th>\n",
       "      <td>a457</td>\n",
       "      <td>0</td>\n",
       "      <td>45.0</td>\n",
       "      <td>0</td>\n",
       "    </tr>\n",
       "    <tr>\n",
       "      <th>4</th>\n",
       "      <td>c819</td>\n",
       "      <td>0</td>\n",
       "      <td>45.0</td>\n",
       "      <td>0</td>\n",
       "    </tr>\n",
       "  </tbody>\n",
       "</table>\n",
       "</div>"
      ],
      "text/plain": [
       "  Mouse ID  Timepoint  Tumor Volume (mm3)  Metastatic Sites\n",
       "0     b128          0                45.0                 0\n",
       "1     f932          0                45.0                 0\n",
       "2     g107          0                45.0                 0\n",
       "3     a457          0                45.0                 0\n",
       "4     c819          0                45.0                 0"
      ]
     },
     "execution_count": 6,
     "metadata": {},
     "output_type": "execute_result"
    }
   ],
   "source": [
    "trial_data.head()"
   ]
  },
  {
   "cell_type": "code",
   "execution_count": 7,
   "metadata": {},
   "outputs": [
    {
     "data": {
      "text/html": [
       "<div>\n",
       "<style scoped>\n",
       "    .dataframe tbody tr th:only-of-type {\n",
       "        vertical-align: middle;\n",
       "    }\n",
       "\n",
       "    .dataframe tbody tr th {\n",
       "        vertical-align: top;\n",
       "    }\n",
       "\n",
       "    .dataframe thead th {\n",
       "        text-align: right;\n",
       "    }\n",
       "</style>\n",
       "<table border=\"1\" class=\"dataframe\">\n",
       "  <thead>\n",
       "    <tr style=\"text-align: right;\">\n",
       "      <th></th>\n",
       "      <th>Mouse ID</th>\n",
       "      <th>Drug</th>\n",
       "      <th>Timepoint</th>\n",
       "      <th>Tumor Volume (mm3)</th>\n",
       "      <th>Metastatic Sites</th>\n",
       "    </tr>\n",
       "  </thead>\n",
       "  <tbody>\n",
       "    <tr>\n",
       "      <th>0</th>\n",
       "      <td>f234</td>\n",
       "      <td>Stelasyn</td>\n",
       "      <td>0</td>\n",
       "      <td>45.000000</td>\n",
       "      <td>0</td>\n",
       "    </tr>\n",
       "    <tr>\n",
       "      <th>1</th>\n",
       "      <td>f234</td>\n",
       "      <td>Stelasyn</td>\n",
       "      <td>5</td>\n",
       "      <td>47.313491</td>\n",
       "      <td>0</td>\n",
       "    </tr>\n",
       "    <tr>\n",
       "      <th>2</th>\n",
       "      <td>f234</td>\n",
       "      <td>Stelasyn</td>\n",
       "      <td>10</td>\n",
       "      <td>47.904324</td>\n",
       "      <td>0</td>\n",
       "    </tr>\n",
       "    <tr>\n",
       "      <th>3</th>\n",
       "      <td>f234</td>\n",
       "      <td>Stelasyn</td>\n",
       "      <td>15</td>\n",
       "      <td>48.735197</td>\n",
       "      <td>1</td>\n",
       "    </tr>\n",
       "    <tr>\n",
       "      <th>4</th>\n",
       "      <td>f234</td>\n",
       "      <td>Stelasyn</td>\n",
       "      <td>20</td>\n",
       "      <td>51.112713</td>\n",
       "      <td>2</td>\n",
       "    </tr>\n",
       "  </tbody>\n",
       "</table>\n",
       "</div>"
      ],
      "text/plain": [
       "  Mouse ID      Drug  Timepoint  Tumor Volume (mm3)  Metastatic Sites\n",
       "0     f234  Stelasyn          0           45.000000                 0\n",
       "1     f234  Stelasyn          5           47.313491                 0\n",
       "2     f234  Stelasyn         10           47.904324                 0\n",
       "3     f234  Stelasyn         15           48.735197                 1\n",
       "4     f234  Stelasyn         20           51.112713                 2"
      ]
     },
     "execution_count": 7,
     "metadata": {},
     "output_type": "execute_result"
    }
   ],
   "source": [
    "#merge the two data frames into one\n",
    "merge_df = pd.merge(drug_data, trial_data, on=(\"Mouse ID\"))\n",
    "merge_df.head()"
   ]
  },
  {
   "cell_type": "code",
   "execution_count": 8,
   "metadata": {},
   "outputs": [
    {
     "data": {
      "text/html": [
       "<div>\n",
       "<style scoped>\n",
       "    .dataframe tbody tr th:only-of-type {\n",
       "        vertical-align: middle;\n",
       "    }\n",
       "\n",
       "    .dataframe tbody tr th {\n",
       "        vertical-align: top;\n",
       "    }\n",
       "\n",
       "    .dataframe thead th {\n",
       "        text-align: right;\n",
       "    }\n",
       "</style>\n",
       "<table border=\"1\" class=\"dataframe\">\n",
       "  <thead>\n",
       "    <tr style=\"text-align: right;\">\n",
       "      <th></th>\n",
       "      <th>Drug</th>\n",
       "      <th>Timepoint</th>\n",
       "      <th>Tumor Volume (mm3)</th>\n",
       "    </tr>\n",
       "  </thead>\n",
       "  <tbody>\n",
       "    <tr>\n",
       "      <th>0</th>\n",
       "      <td>Stelasyn</td>\n",
       "      <td>0</td>\n",
       "      <td>45.000000</td>\n",
       "    </tr>\n",
       "    <tr>\n",
       "      <th>1</th>\n",
       "      <td>Stelasyn</td>\n",
       "      <td>5</td>\n",
       "      <td>47.313491</td>\n",
       "    </tr>\n",
       "    <tr>\n",
       "      <th>2</th>\n",
       "      <td>Stelasyn</td>\n",
       "      <td>10</td>\n",
       "      <td>47.904324</td>\n",
       "    </tr>\n",
       "    <tr>\n",
       "      <th>3</th>\n",
       "      <td>Stelasyn</td>\n",
       "      <td>15</td>\n",
       "      <td>48.735197</td>\n",
       "    </tr>\n",
       "    <tr>\n",
       "      <th>4</th>\n",
       "      <td>Stelasyn</td>\n",
       "      <td>20</td>\n",
       "      <td>51.112713</td>\n",
       "    </tr>\n",
       "  </tbody>\n",
       "</table>\n",
       "</div>"
      ],
      "text/plain": [
       "       Drug  Timepoint  Tumor Volume (mm3)\n",
       "0  Stelasyn          0           45.000000\n",
       "1  Stelasyn          5           47.313491\n",
       "2  Stelasyn         10           47.904324\n",
       "3  Stelasyn         15           48.735197\n",
       "4  Stelasyn         20           51.112713"
      ]
     },
     "execution_count": 8,
     "metadata": {},
     "output_type": "execute_result"
    }
   ],
   "source": [
    "# For tumor_vol_df extract only columns \"Drug\", \"Timepoint\" and \"Tumor Volume (mm3)\"\n",
    "tumor_vol_df = merge_df.loc[:,['Drug', 'Timepoint', 'Tumor Volume (mm3)']]\n",
    "tumor_vol_df.head()"
   ]
  },
  {
   "cell_type": "markdown",
   "metadata": {},
   "source": [
    "# Tumor Response to Treatment"
   ]
  },
  {
   "cell_type": "code",
   "execution_count": 9,
   "metadata": {},
   "outputs": [],
   "source": [
    "# Store the Mean Tumor Volume Data Grouped by Drug and Timepoint \n",
    "# calculate the mean and the standard error of the mean for the \"Tumor Volume (mm3)\" column\n",
    "# Preview DataFrame\n",
    "mean_sem_vol = tumor_vol_df.groupby([\"Drug\", \"Timepoint\"]).agg({\"Tumor Volume (mm3)\" :[\"mean\", \"sem\"]})\n"
   ]
  },
  {
   "cell_type": "code",
   "execution_count": 10,
   "metadata": {},
   "outputs": [
    {
     "data": {
      "text/html": [
       "<div>\n",
       "<style scoped>\n",
       "    .dataframe tbody tr th:only-of-type {\n",
       "        vertical-align: middle;\n",
       "    }\n",
       "\n",
       "    .dataframe tbody tr th {\n",
       "        vertical-align: top;\n",
       "    }\n",
       "\n",
       "    .dataframe thead tr th {\n",
       "        text-align: left;\n",
       "    }\n",
       "\n",
       "    .dataframe thead tr:last-of-type th {\n",
       "        text-align: right;\n",
       "    }\n",
       "</style>\n",
       "<table border=\"1\" class=\"dataframe\">\n",
       "  <thead>\n",
       "    <tr>\n",
       "      <th></th>\n",
       "      <th></th>\n",
       "      <th colspan=\"2\" halign=\"left\">Tumor Volume (mm3)</th>\n",
       "    </tr>\n",
       "    <tr>\n",
       "      <th></th>\n",
       "      <th></th>\n",
       "      <th>mean</th>\n",
       "      <th>sem</th>\n",
       "    </tr>\n",
       "    <tr>\n",
       "      <th>Drug</th>\n",
       "      <th>Timepoint</th>\n",
       "      <th></th>\n",
       "      <th></th>\n",
       "    </tr>\n",
       "  </thead>\n",
       "  <tbody>\n",
       "    <tr>\n",
       "      <th rowspan=\"5\" valign=\"top\">Capomulin</th>\n",
       "      <th>0</th>\n",
       "      <td>45.000000</td>\n",
       "      <td>0.000000</td>\n",
       "    </tr>\n",
       "    <tr>\n",
       "      <th>5</th>\n",
       "      <td>44.266086</td>\n",
       "      <td>0.448593</td>\n",
       "    </tr>\n",
       "    <tr>\n",
       "      <th>10</th>\n",
       "      <td>43.084291</td>\n",
       "      <td>0.702684</td>\n",
       "    </tr>\n",
       "    <tr>\n",
       "      <th>15</th>\n",
       "      <td>42.064317</td>\n",
       "      <td>0.838617</td>\n",
       "    </tr>\n",
       "    <tr>\n",
       "      <th>20</th>\n",
       "      <td>40.716325</td>\n",
       "      <td>0.909731</td>\n",
       "    </tr>\n",
       "  </tbody>\n",
       "</table>\n",
       "</div>"
      ],
      "text/plain": [
       "                    Tumor Volume (mm3)          \n",
       "                                  mean       sem\n",
       "Drug      Timepoint                             \n",
       "Capomulin 0                  45.000000  0.000000\n",
       "          5                  44.266086  0.448593\n",
       "          10                 43.084291  0.702684\n",
       "          15                 42.064317  0.838617\n",
       "          20                 40.716325  0.909731"
      ]
     },
     "execution_count": 10,
     "metadata": {},
     "output_type": "execute_result"
    }
   ],
   "source": [
    "mean_sem_vol.head()"
   ]
  },
  {
   "cell_type": "code",
   "execution_count": 11,
   "metadata": {},
   "outputs": [],
   "source": [
    "#create a list of the tumor volume mean for each of the four drugs being compared\n",
    "cap_vol_mean = mean_sem_vol.loc[\"Capomulin\"].loc[:,\"Tumor Volume (mm3)\"].loc[:,\"mean\"].tolist()\n",
    "inf_vol_mean = mean_sem_vol.loc[\"Infubinol\"].loc[:, \"Tumor Volume (mm3)\"].loc[:,\"mean\"].tolist()\n",
    "keta_vol_mean = mean_sem_vol.loc[\"Ketapril\"].loc[:, \"Tumor Volume (mm3)\"].loc[:,\"mean\"].tolist()\n",
    "pla_vol_mean = mean_sem_vol.loc[\"Placebo\"].loc[:, \"Tumor Volume (mm3)\"].loc[:,\"mean\"].tolist()\n",
    "\n"
   ]
  },
  {
   "cell_type": "code",
   "execution_count": 12,
   "metadata": {},
   "outputs": [],
   "source": [
    "#create a list of the volume standard error for each of the four drugs being compared\n",
    "cap_vol_sem = mean_sem_vol.loc[\"Capomulin\"].loc[:,\"Tumor Volume (mm3)\"].loc[:,\"sem\"].tolist()\n",
    "inf_vol_sem = mean_sem_vol.loc[\"Infubinol\"].loc[:, \"Tumor Volume (mm3)\"].loc[:,\"sem\"].tolist()\n",
    "keta_vol_sem = mean_sem_vol.loc[\"Ketapril\"].loc[:, \"Tumor Volume (mm3)\"].loc[:,\"sem\"].tolist()\n",
    "pla_vol_sem = mean_sem_vol.loc[\"Placebo\"].loc[:, \"Tumor Volume (mm3)\"].loc[:,\"sem\"].tolist()"
   ]
  },
  {
   "cell_type": "code",
   "execution_count": 13,
   "metadata": {},
   "outputs": [
    {
     "data": {
      "text/plain": [
       "[45.0,\n",
       " 47.125589188437495,\n",
       " 49.42332947868749,\n",
       " 51.35974169802999,\n",
       " 54.36441702681052,\n",
       " 57.48257374394706,\n",
       " 59.809063185673345,\n",
       " 62.420615067964285,\n",
       " 65.05267500425833,\n",
       " 68.08408221741819]"
      ]
     },
     "execution_count": 13,
     "metadata": {},
     "output_type": "execute_result"
    }
   ],
   "source": [
    "pla_vol_mean"
   ]
  },
  {
   "cell_type": "code",
   "execution_count": 14,
   "metadata": {},
   "outputs": [
    {
     "data": {
      "image/png": "[encoded data removed]",
      "text/plain": [
       "<Figure size 432x288 with 1 Axes>"
      ]
     },
     "metadata": {
      "needs_background": "light"
     },
     "output_type": "display_data"
    }
   ],
   "source": [
    "#create a plot for the volume data\n",
    "# plot the \"mean\" list vs. the established x axis with error \n",
    "# for each of the four drugs on the same coordinate axis\n",
    "\n",
    "#set the x axis from 0 to 50 in increments of 5\n",
    "xAxis = np.arange(0, 50, 5)\n",
    "\n",
    "cap_line_vol = plt.errorbar(xAxis, cap_vol_mean, yerr=cap_vol_sem, fmt=\"g\", capsize=0.5,\n",
    "                   label=\"Capomulin\")\n",
    "inf_line_vol = plt.errorbar(xAxis, inf_vol_mean, yerr=inf_vol_sem, fmt=\"c\", capsize=2,\n",
    "                   label=\"Infubinol\")\n",
    "keta_line_vol = plt.errorbar(xAxis, keta_vol_mean, yerr=keta_vol_sem, fmt=\"r\", capsize=2,\n",
    "                   label=\"Ketapril\")\n",
    "pla_line_vol = plt.errorbar(xAxis, pla_vol_mean, yerr=pla_vol_sem, fmt=\"b\", capsize=2,\n",
    "                   label=\"Placebo\")\n",
    "#set the plot title, and axis titles\n",
    "plt.title(\"Tumor Response to Treatment\")\n",
    "plt.xlabel(\"Time [days]\")\n",
    "plt.ylabel(\"Tumor Volume [mm3]\")\n",
    "\n",
    "# Add the legend and gridlines\n",
    "plt.legend(loc=2)\n",
    "\n",
    "tick_locations = [value for value in xAxis]\n",
    "#plt.set_xticks(tick_locations, minor=False)\n",
    "plt.grid('on', which='major', axis='both', linestyle='dotted', linewidth=1)\n",
    "\n",
    "plt.xlim(0, max(xAxis)+2)\n",
    "        \n",
    "# Save and Show the scatter plot\n",
    "plt.savefig(\"Images/tumorResponse.png\")\n",
    "plt.show()\n",
    "\n",
    "\n"
   ]
  },
  {
   "cell_type": "markdown",
   "metadata": {},
   "source": [
    "# Metastatic Response to Treatment\n"
   ]
  },
  {
   "cell_type": "code",
   "execution_count": 15,
   "metadata": {},
   "outputs": [
    {
     "data": {
      "text/html": [
       "<div>\n",
       "<style scoped>\n",
       "    .dataframe tbody tr th:only-of-type {\n",
       "        vertical-align: middle;\n",
       "    }\n",
       "\n",
       "    .dataframe tbody tr th {\n",
       "        vertical-align: top;\n",
       "    }\n",
       "\n",
       "    .dataframe thead th {\n",
       "        text-align: right;\n",
       "    }\n",
       "</style>\n",
       "<table border=\"1\" class=\"dataframe\">\n",
       "  <thead>\n",
       "    <tr style=\"text-align: right;\">\n",
       "      <th></th>\n",
       "      <th>Drug</th>\n",
       "      <th>Timepoint</th>\n",
       "      <th>Metastatic Sites</th>\n",
       "    </tr>\n",
       "  </thead>\n",
       "  <tbody>\n",
       "    <tr>\n",
       "      <th>0</th>\n",
       "      <td>Stelasyn</td>\n",
       "      <td>0</td>\n",
       "      <td>0</td>\n",
       "    </tr>\n",
       "    <tr>\n",
       "      <th>1</th>\n",
       "      <td>Stelasyn</td>\n",
       "      <td>5</td>\n",
       "      <td>0</td>\n",
       "    </tr>\n",
       "    <tr>\n",
       "      <th>2</th>\n",
       "      <td>Stelasyn</td>\n",
       "      <td>10</td>\n",
       "      <td>0</td>\n",
       "    </tr>\n",
       "    <tr>\n",
       "      <th>3</th>\n",
       "      <td>Stelasyn</td>\n",
       "      <td>15</td>\n",
       "      <td>1</td>\n",
       "    </tr>\n",
       "    <tr>\n",
       "      <th>4</th>\n",
       "      <td>Stelasyn</td>\n",
       "      <td>20</td>\n",
       "      <td>2</td>\n",
       "    </tr>\n",
       "  </tbody>\n",
       "</table>\n",
       "</div>"
      ],
      "text/plain": [
       "       Drug  Timepoint  Metastatic Sites\n",
       "0  Stelasyn          0                 0\n",
       "1  Stelasyn          5                 0\n",
       "2  Stelasyn         10                 0\n",
       "3  Stelasyn         15                 1\n",
       "4  Stelasyn         20                 2"
      ]
     },
     "execution_count": 15,
     "metadata": {},
     "output_type": "execute_result"
    }
   ],
   "source": [
    "# For meta_vol_df extract only columns \"Drug\", \"Timepoint\" and \"Tumor Volume (mm3)\"\n",
    "meta_vol_df = merge_df.loc[:,['Drug', 'Timepoint', 'Metastatic Sites']]\n",
    "meta_vol_df.head()"
   ]
  },
  {
   "cell_type": "code",
   "execution_count": 16,
   "metadata": {},
   "outputs": [
    {
     "data": {
      "text/html": [
       "<div>\n",
       "<style scoped>\n",
       "    .dataframe tbody tr th:only-of-type {\n",
       "        vertical-align: middle;\n",
       "    }\n",
       "\n",
       "    .dataframe tbody tr th {\n",
       "        vertical-align: top;\n",
       "    }\n",
       "\n",
       "    .dataframe thead tr th {\n",
       "        text-align: left;\n",
       "    }\n",
       "\n",
       "    .dataframe thead tr:last-of-type th {\n",
       "        text-align: right;\n",
       "    }\n",
       "</style>\n",
       "<table border=\"1\" class=\"dataframe\">\n",
       "  <thead>\n",
       "    <tr>\n",
       "      <th></th>\n",
       "      <th></th>\n",
       "      <th colspan=\"2\" halign=\"left\">Metastatic Sites</th>\n",
       "    </tr>\n",
       "    <tr>\n",
       "      <th></th>\n",
       "      <th></th>\n",
       "      <th>mean</th>\n",
       "      <th>sem</th>\n",
       "    </tr>\n",
       "    <tr>\n",
       "      <th>Drug</th>\n",
       "      <th>Timepoint</th>\n",
       "      <th></th>\n",
       "      <th></th>\n",
       "    </tr>\n",
       "  </thead>\n",
       "  <tbody>\n",
       "    <tr>\n",
       "      <th rowspan=\"5\" valign=\"top\">Capomulin</th>\n",
       "      <th>0</th>\n",
       "      <td>0.000000</td>\n",
       "      <td>0.000000</td>\n",
       "    </tr>\n",
       "    <tr>\n",
       "      <th>5</th>\n",
       "      <td>0.160000</td>\n",
       "      <td>0.074833</td>\n",
       "    </tr>\n",
       "    <tr>\n",
       "      <th>10</th>\n",
       "      <td>0.320000</td>\n",
       "      <td>0.125433</td>\n",
       "    </tr>\n",
       "    <tr>\n",
       "      <th>15</th>\n",
       "      <td>0.375000</td>\n",
       "      <td>0.132048</td>\n",
       "    </tr>\n",
       "    <tr>\n",
       "      <th>20</th>\n",
       "      <td>0.652174</td>\n",
       "      <td>0.161621</td>\n",
       "    </tr>\n",
       "  </tbody>\n",
       "</table>\n",
       "</div>"
      ],
      "text/plain": [
       "                    Metastatic Sites          \n",
       "                                mean       sem\n",
       "Drug      Timepoint                           \n",
       "Capomulin 0                 0.000000  0.000000\n",
       "          5                 0.160000  0.074833\n",
       "          10                0.320000  0.125433\n",
       "          15                0.375000  0.132048\n",
       "          20                0.652174  0.161621"
      ]
     },
     "execution_count": 16,
     "metadata": {},
     "output_type": "execute_result"
    }
   ],
   "source": [
    "# Store the Mean metastatic Volume Data Grouped by Drug and Timepoint \n",
    "# calculate the mean and the standard error of the mean for the \"Tumor Volume (mm3)\" column\n",
    "# Preview DataFrame\n",
    "meta_mean_sem = meta_vol_df.groupby(['Drug', 'Timepoint']).agg({'Metastatic Sites':['mean', 'sem']})\n",
    "meta_mean_sem.head()"
   ]
  },
  {
   "cell_type": "code",
   "execution_count": 17,
   "metadata": {},
   "outputs": [],
   "source": [
    "#create a list of the metastatic volume mean for each of the four drugs being compared\n",
    "cap_meta_mean = meta_mean_sem.loc[\"Capomulin\"].loc[:,\"Metastatic Sites\"].loc[:,\"mean\"].tolist()\n",
    "inf_meta_mean = meta_mean_sem.loc[\"Infubinol\"].loc[:, \"Metastatic Sites\"].loc[:,\"mean\"].tolist()\n",
    "keta_meta_mean = meta_mean_sem.loc[\"Ketapril\"].loc[:, \"Metastatic Sites\"].loc[:,\"mean\"].tolist()\n",
    "pla_meta_mean = meta_mean_sem.loc[\"Placebo\"].loc[:, \"Metastatic Sites\"].loc[:,\"mean\"].tolist()"
   ]
  },
  {
   "cell_type": "code",
   "execution_count": 18,
   "metadata": {},
   "outputs": [],
   "source": [
    "#create a list of the metastatic volume sem for each of the four drugs being compared\n",
    "cap_meta_sem = meta_mean_sem.loc[\"Capomulin\"].loc[:,\"Metastatic Sites\"].loc[:,\"sem\"].tolist()\n",
    "inf_meta_sem = meta_mean_sem.loc[\"Infubinol\"].loc[:, \"Metastatic Sites\"].loc[:,\"sem\"].tolist()\n",
    "keta_meta_sem = meta_mean_sem.loc[\"Ketapril\"].loc[:, \"Metastatic Sites\"].loc[:,\"sem\"].tolist()\n",
    "pla_meta_sem = meta_mean_sem.loc[\"Placebo\"].loc[:, \"Metastatic Sites\"].loc[:,\"sem\"].tolist()"
   ]
  },
  {
   "cell_type": "code",
   "execution_count": 19,
   "metadata": {},
   "outputs": [
    {
     "data": {
      "image/png": "[encoded data removed]",
      "text/plain": [
       "<Figure size 432x288 with 1 Axes>"
      ]
     },
     "metadata": {
      "needs_background": "light"
     },
     "output_type": "display_data"
    }
   ],
   "source": [
    "#create a plot for the volume data\n",
    "# plot the \"mean\" list vs. the established x axis with error \n",
    "# for each of the four drugs on the same coordinate axis\n",
    "\n",
    "#set the x axis from 0 to 50 in increments of 5\n",
    "xAxis = np.arange(0, 50, 5)\n",
    "\n",
    "cap_line_vol = plt.errorbar(xAxis, cap_meta_mean, yerr=cap_meta_sem, fmt=\"r\", capsize=0.5,\n",
    "                   label=\"Capomulin\")\n",
    "inf_line_vol = plt.errorbar(xAxis, inf_meta_mean, yerr=inf_meta_sem, fmt=\"b\", capsize=2,\n",
    "                   label=\"Infubinol\")\n",
    "keta_line_vol = plt.errorbar(xAxis, keta_meta_mean, yerr=keta_meta_sem, fmt=\"g\", capsize=2,\n",
    "                   label=\"Ketapril\")\n",
    "pla_line_vol = plt.errorbar(xAxis, pla_meta_mean, yerr=pla_meta_sem, fmt=\"c\", capsize=2,\n",
    "                   label=\"Placebo\")\n",
    "#set the plot title, and axis titles\n",
    "plt.title(\"Metastatic Spread During Treatment\")\n",
    "plt.xlabel(\"Treatment Duration [days]\")\n",
    "plt.ylabel(\"Met. Sites\")\n",
    "\n",
    "# Add the legend and gridlines\n",
    "plt.legend(loc=2)\n",
    "\n",
    "tick_locations = [value for value in xAxis]\n",
    "#plt.set_xticks(tick_locations, minor=False)\n",
    "plt.grid('on', which='major', axis='both', linestyle='dotted', linewidth=1)\n",
    "\n",
    "plt.xlim(0, max(xAxis)+2)\n",
    "        \n",
    "# Save and Show the scatter plot\n",
    "plt.savefig(\"Images/MetastaticSpread.png\")\n",
    "plt.show()"
   ]
  },
  {
   "cell_type": "markdown",
   "metadata": {},
   "source": [
    "# Survival Rates"
   ]
  },
  {
   "cell_type": "code",
   "execution_count": 20,
   "metadata": {},
   "outputs": [
    {
     "data": {
      "text/plain": [
       "Drug       Timepoint\n",
       "Capomulin  0            25\n",
       "           5            25\n",
       "           10           25\n",
       "           15           24\n",
       "           20           23\n",
       "Name: Timepoint, dtype: int64"
      ]
     },
     "execution_count": 20,
     "metadata": {},
     "output_type": "execute_result"
    }
   ],
   "source": [
    "# Let's find the mouse survival rate grouped by 'Drug' and 'Timepoint\n",
    "mice_surv = merge_df.groupby(['Drug', 'Timepoint'])['Timepoint'].count()\n",
    "mice_surv.head()"
   ]
  },
  {
   "cell_type": "code",
   "execution_count": 21,
   "metadata": {},
   "outputs": [],
   "source": [
    "# Create lists of the mouse counts for each of the four drugs \n",
    "cap_surv_mice = mice_surv.loc['Capomulin'].tolist()\n",
    "inf_surv_mice = mice_surv.loc['Infubinol'].tolist()\n",
    "keta_surv_mice = mice_surv.loc['Ketapril'].tolist()\n",
    "pla_surv_mice = mice_surv.loc['Placebo'].tolist()\n"
   ]
  },
  {
   "cell_type": "code",
   "execution_count": 22,
   "metadata": {},
   "outputs": [],
   "source": [
    "# To get the mouse survival rate each value in the lists is divided by the first value of the respective list to get a percentage\n",
    "cap_surv_rate = [(x/cap_surv_mice[0])*100 for x in cap_surv_mice]\n",
    "inf_surv_rate = [(x/inf_surv_mice[0])*100 for x in inf_surv_mice]\n",
    "keta_surv_rate = [(x/keta_surv_mice[0])*100 for x in keta_surv_mice]\n",
    "pla_surv_rate = [(x/pla_surv_mice[0])*100 for x in pla_surv_mice]\n"
   ]
  },
  {
   "cell_type": "code",
   "execution_count": 23,
   "metadata": {},
   "outputs": [
    {
     "data": {
      "image/png": "[encoded data removed]",
      "text/plain": [
       "<Figure size 432x288 with 1 Axes>"
      ]
     },
     "metadata": {
      "needs_background": "light"
     },
     "output_type": "display_data"
    }
   ],
   "source": [
    "# Scatter plot to show mouse survival rate over time for each treatment\n",
    "\n",
    "#set the x axis from 0 to 50 in increments of 5\n",
    "xAxis = np.arange(0, 50, 5)\n",
    "\n",
    "cap_surv = plt.plot(xAxis, cap_surv_rate, color=\"r\", label=\"Capomulin\")\n",
    "inf_surv = plt.plot(xAxis, inf_surv_rate, color=\"b\", label=\"Infubinol\")\n",
    "keta_surv = plt.plot(xAxis, keta_surv_rate, color=\"g\", label=\"Ketapril\")\n",
    "pla_surv =  plt.plot(xAxis, pla_surv_rate, color=\"c\", label=\"Placebo\")\n",
    "#set the plot title, and axis titles\n",
    "plt.title(\"Survival During Treatment\")\n",
    "plt.xlabel(\"Time [days]\")\n",
    "plt.ylabel(\"Survival Rate (%)\")\n",
    "\n",
    "# Add the legend and gridlines\n",
    "plt.legend(loc=3)\n",
    "\n",
    "tick_locations = [value for value in xAxis]\n",
    "\n",
    "plt.grid('on', which='major', axis='both', linestyle='dotted', linewidth=1)\n",
    "\n",
    "plt.xlim(0, max(xAxis)+2)\n",
    "        \n",
    "# Save and Show the scatter plot\n",
    "plt.savefig(\"Images/SurvivalRate.png\")\n",
    "plt.show()"
   ]
  },
  {
   "cell_type": "markdown",
   "metadata": {},
   "source": [
    "# Summary Bar Graph"
   ]
  },
  {
   "cell_type": "code",
   "execution_count": 29,
   "metadata": {},
   "outputs": [],
   "source": [
    "# Claculations of the total % tumor volume change for each drug over the time\n",
    "\n",
    "cap_tumor_change = int(((cap_vol_mean[-1] - cap_vol_mean[0])/cap_vol_mean[0])*100)\n",
    "inf_tumor_change = int(((inf_vol_mean[-1] - inf_vol_mean[0])/inf_vol_mean[0])*100)\n",
    "keta_tumor_change = int(((keta_vol_mean[-1] - keta_vol_mean[0])/keta_vol_mean[0])*100)\n",
    "pla_tumor_change = int(((pla_vol_mean[-1] - pla_vol_mean[0])/pla_vol_mean[0])*100)\n"
   ]
  },
  {
   "cell_type": "code",
   "execution_count": 30,
   "metadata": {},
   "outputs": [
    {
     "data": {
      "text/plain": [
       "51"
      ]
     },
     "execution_count": 30,
     "metadata": {},
     "output_type": "execute_result"
    }
   ],
   "source": [
    "cap_tumor_change\n",
    "pla_tumor_change"
   ]
  },
  {
   "cell_type": "code",
   "execution_count": 26,
   "metadata": {},
   "outputs": [
    {
     "data": {
      "text/plain": [
       "36.23611379944762"
      ]
     },
     "execution_count": 26,
     "metadata": {},
     "output_type": "execute_result"
    }
   ],
   "source": [
    "cap_vol_mean[-1]\n",
    "inf_vol_mean"
   ]
  },
  {
   "cell_type": "code",
   "execution_count": 27,
   "metadata": {},
   "outputs": [
    {
     "data": {
      "text/plain": [
       "45.0"
      ]
     },
     "execution_count": 27,
     "metadata": {},
     "output_type": "execute_result"
    }
   ],
   "source": [
    "cap_vol_mean[0]"
   ]
  },
  {
   "cell_type": "code",
   "execution_count": 28,
   "metadata": {},
   "outputs": [
    {
     "data": {
      "text/plain": [
       "[45.0,\n",
       " 44.26608641544399,\n",
       " 43.08429058188399,\n",
       " 42.06431734681251,\n",
       " 40.71632532212173,\n",
       " 39.93952782686818,\n",
       " 38.76933928855454,\n",
       " 37.81683888251364,\n",
       " 36.95800081089524,\n",
       " 36.23611379944762]"
      ]
     },
     "execution_count": 28,
     "metadata": {},
     "output_type": "execute_result"
    }
   ],
   "source": [
    "cap_vol_mean"
   ]
  },
  {
   "cell_type": "code",
   "execution_count": null,
   "metadata": {},
   "outputs": [],
   "source": []
  }
 ],
 "metadata": {
  "kernelspec": {
   "display_name": "Python 3",
   "language": "python",
   "name": "python3"
  },
  "language_info": {
   "codemirror_mode": {
    "name": "ipython",
    "version": 3
   },
   "file_extension": ".py",
   "mimetype": "text/x-python",
   "name": "python",
   "nbconvert_exporter": "python",
   "pygments_lexer": "ipython3",
   "version": "3.7.3"
  }
 },
 "nbformat": 4,
 "nbformat_minor": 2
}
